{
 "cells": [
  {
   "cell_type": "markdown",
   "metadata": {},
   "source": [
    "# Method 1: Pre-processing and Train Model\n",
    "### Pre-processing"
   ]
  },
  {
   "cell_type": "code",
   "execution_count": 1,
   "metadata": {},
   "outputs": [],
   "source": [
    "import pandas as pd\n",
    "import numpy as np"
   ]
  },
  {
   "cell_type": "code",
   "execution_count": 2,
   "metadata": {},
   "outputs": [],
   "source": [
    "reviews_sample = pd.read_csv('reviews10000.csv')"
   ]
  },
  {
   "cell_type": "code",
   "execution_count": 3,
   "metadata": {},
   "outputs": [
    {
     "data": {
      "text/html": [
       "<div>\n",
       "<style scoped>\n",
       "    .dataframe tbody tr th:only-of-type {\n",
       "        vertical-align: middle;\n",
       "    }\n",
       "\n",
       "    .dataframe tbody tr th {\n",
       "        vertical-align: top;\n",
       "    }\n",
       "\n",
       "    .dataframe thead th {\n",
       "        text-align: right;\n",
       "    }\n",
       "</style>\n",
       "<table border=\"1\" class=\"dataframe\">\n",
       "  <thead>\n",
       "    <tr style=\"text-align: right;\">\n",
       "      <th></th>\n",
       "      <th>Unnamed: 0</th>\n",
       "      <th>review_id</th>\n",
       "      <th>user_id</th>\n",
       "      <th>business_id</th>\n",
       "      <th>stars</th>\n",
       "      <th>date</th>\n",
       "      <th>text</th>\n",
       "      <th>useful</th>\n",
       "      <th>funny</th>\n",
       "      <th>cool</th>\n",
       "    </tr>\n",
       "  </thead>\n",
       "  <tbody>\n",
       "    <tr>\n",
       "      <th>0</th>\n",
       "      <td>4694397</td>\n",
       "      <td>Llol4TRuLoVmCsbVSnuIDA</td>\n",
       "      <td>75JyTel9uUs7VNFhTmK56w</td>\n",
       "      <td>sPwgafejYVdf8hd4-oDYVg</td>\n",
       "      <td>1.0</td>\n",
       "      <td>2015-08-30 17:32:01</td>\n",
       "      <td>Awful. The lemon pepper wing sauce is black fo...</td>\n",
       "      <td>0</td>\n",
       "      <td>0</td>\n",
       "      <td>0</td>\n",
       "    </tr>\n",
       "    <tr>\n",
       "      <th>1</th>\n",
       "      <td>3142277</td>\n",
       "      <td>moHHEwAINiwsjohq6doYrQ</td>\n",
       "      <td>lhDgwKq2Gh8TIIyexubRag</td>\n",
       "      <td>9U4Tqt5SkZKQ6eeH6IPSxQ</td>\n",
       "      <td>5.0</td>\n",
       "      <td>2018-04-11 04:36:23</td>\n",
       "      <td>We had an awesome experience at hibachi. Our c...</td>\n",
       "      <td>0</td>\n",
       "      <td>0</td>\n",
       "      <td>1</td>\n",
       "    </tr>\n",
       "    <tr>\n",
       "      <th>2</th>\n",
       "      <td>2342009</td>\n",
       "      <td>6TF21--YL6ig6r0Oae1qGA</td>\n",
       "      <td>jpib9MAMB_aVxyCDUi9VAg</td>\n",
       "      <td>yFUvKpW66cNsYXD6inDsog</td>\n",
       "      <td>5.0</td>\n",
       "      <td>2015-01-27 03:54:16</td>\n",
       "      <td>I truly enjoy this neighborhood spot. Good foo...</td>\n",
       "      <td>0</td>\n",
       "      <td>0</td>\n",
       "      <td>0</td>\n",
       "    </tr>\n",
       "    <tr>\n",
       "      <th>3</th>\n",
       "      <td>3547267</td>\n",
       "      <td>MN2PqoIWECNmI3fuqdZyEA</td>\n",
       "      <td>bFF1HZzb8k3gimLHU52bQA</td>\n",
       "      <td>WnOVGJTu7RK0iWurrgiBNA</td>\n",
       "      <td>5.0</td>\n",
       "      <td>2018-06-28 19:06:47</td>\n",
       "      <td>Best tanning place around in NC\\r\\r\\nHope and ...</td>\n",
       "      <td>0</td>\n",
       "      <td>0</td>\n",
       "      <td>0</td>\n",
       "    </tr>\n",
       "    <tr>\n",
       "      <th>4</th>\n",
       "      <td>4449537</td>\n",
       "      <td>MG4o8ke2G6VYXDy1HUCbIg</td>\n",
       "      <td>PT3whiZ1mW3psCz_lcp7ww</td>\n",
       "      <td>6BO1PcdtU6idqO0njUnCYA</td>\n",
       "      <td>1.0</td>\n",
       "      <td>2016-07-12 16:49:09</td>\n",
       "      <td>Staff is horrible. Last time I ordered from he...</td>\n",
       "      <td>0</td>\n",
       "      <td>0</td>\n",
       "      <td>1</td>\n",
       "    </tr>\n",
       "  </tbody>\n",
       "</table>\n",
       "</div>"
      ],
      "text/plain": [
       "   Unnamed: 0               review_id                 user_id  \\\n",
       "0     4694397  Llol4TRuLoVmCsbVSnuIDA  75JyTel9uUs7VNFhTmK56w   \n",
       "1     3142277  moHHEwAINiwsjohq6doYrQ  lhDgwKq2Gh8TIIyexubRag   \n",
       "2     2342009  6TF21--YL6ig6r0Oae1qGA  jpib9MAMB_aVxyCDUi9VAg   \n",
       "3     3547267  MN2PqoIWECNmI3fuqdZyEA  bFF1HZzb8k3gimLHU52bQA   \n",
       "4     4449537  MG4o8ke2G6VYXDy1HUCbIg  PT3whiZ1mW3psCz_lcp7ww   \n",
       "\n",
       "              business_id  stars                 date  \\\n",
       "0  sPwgafejYVdf8hd4-oDYVg    1.0  2015-08-30 17:32:01   \n",
       "1  9U4Tqt5SkZKQ6eeH6IPSxQ    5.0  2018-04-11 04:36:23   \n",
       "2  yFUvKpW66cNsYXD6inDsog    5.0  2015-01-27 03:54:16   \n",
       "3  WnOVGJTu7RK0iWurrgiBNA    5.0  2018-06-28 19:06:47   \n",
       "4  6BO1PcdtU6idqO0njUnCYA    1.0  2016-07-12 16:49:09   \n",
       "\n",
       "                                                text  useful  funny  cool  \n",
       "0  Awful. The lemon pepper wing sauce is black fo...       0      0     0  \n",
       "1  We had an awesome experience at hibachi. Our c...       0      0     1  \n",
       "2  I truly enjoy this neighborhood spot. Good foo...       0      0     0  \n",
       "3  Best tanning place around in NC\\r\\r\\nHope and ...       0      0     0  \n",
       "4  Staff is horrible. Last time I ordered from he...       0      0     1  "
      ]
     },
     "execution_count": 3,
     "metadata": {},
     "output_type": "execute_result"
    }
   ],
   "source": [
    "reviews_sample.head()"
   ]
  },
  {
   "cell_type": "code",
   "execution_count": 4,
   "metadata": {},
   "outputs": [],
   "source": [
    "from nltk.corpus import stopwords \n",
    "from nltk.tokenize import word_tokenize "
   ]
  },
  {
   "cell_type": "code",
   "execution_count": 5,
   "metadata": {},
   "outputs": [
    {
     "name": "stdout",
     "output_type": "stream",
     "text": [
      "[nltk_data] Downloading package stopwords to\n",
      "[nltk_data]     C:\\Users\\tuf87933.TU\\AppData\\Roaming\\nltk_data...\n",
      "[nltk_data]   Unzipping corpora\\stopwords.zip.\n"
     ]
    },
    {
     "data": {
      "text/plain": [
       "True"
      ]
     },
     "execution_count": 5,
     "metadata": {},
     "output_type": "execute_result"
    }
   ],
   "source": [
    "import nltk\n",
    "nltk.download('stopwords')"
   ]
  },
  {
   "cell_type": "code",
   "execution_count": 6,
   "metadata": {},
   "outputs": [
    {
     "name": "stdout",
     "output_type": "stream",
     "text": [
      "[nltk_data] Downloading package punkt to\n",
      "[nltk_data]     C:\\Users\\tuf87933.TU\\AppData\\Roaming\\nltk_data...\n",
      "[nltk_data]   Unzipping tokenizers\\punkt.zip.\n"
     ]
    },
    {
     "data": {
      "text/plain": [
       "True"
      ]
     },
     "execution_count": 6,
     "metadata": {},
     "output_type": "execute_result"
    }
   ],
   "source": [
    "nltk.download('punkt')"
   ]
  },
  {
   "cell_type": "markdown",
   "metadata": {},
   "source": [
    "***Preprocessing***\n",
    "1. Remove punctuation\n",
    "2. Remove stop words"
   ]
  },
  {
   "cell_type": "markdown",
   "metadata": {},
   "source": [
    "***STOP WORDS***\n",
    "\n",
    "{‘ourselves’, ‘hers’, ‘between’, ‘yourself’, ‘but’, ‘again’, ‘there’, ‘about’, ‘once’, ‘during’, ‘out’, ‘very’, ‘having’, ‘with’, ‘they’, ‘own’, ‘an’, ‘be’, ‘some’, ‘for’, ‘do’, ‘its’, ‘yours’, ‘such’, ‘into’, ‘of’, ‘most’, ‘itself’, ‘other’, ‘off’, ‘is’, ‘s’, ‘am’, ‘or’, ‘who’, ‘as’, ‘from’, ‘him’, ‘each’, ‘the’, ‘themselves’, ‘until’, ‘below’, ‘are’, ‘we’, ‘these’, ‘your’, ‘his’, ‘through’, ‘don’, ‘nor’, ‘me’, ‘were’, ‘her’, ‘more’, ‘himself’, ‘this’, ‘down’, ‘should’, ‘our’, ‘their’, ‘while’, ‘above’, ‘both’, ‘up’, ‘to’, ‘ours’, ‘had’, ‘she’, ‘all’, ‘no’, ‘when’, ‘at’, ‘any’, ‘before’, ‘them’, ‘same’, ‘and’, ‘been’, ‘have’, ‘in’, ‘will’, ‘on’, ‘does’, ‘yourselves’, ‘then’, ‘that’, ‘because’, ‘what’, ‘over’, ‘why’, ‘so’, ‘can’, ‘did’, ‘not’, ‘now’, ‘under’, ‘he’, ‘you’, ‘herself’, ‘has’, ‘just’, ‘where’, ‘too’, ‘only’, ‘myself’, ‘which’, ‘those’, ‘i’, ‘after’, ‘few’, ‘whom’, ‘t’, ‘being’, ‘if’, ‘theirs’, ‘my’, ‘against’, ‘a’, ‘by’, ‘doing’, ‘it’, ‘how’, ‘further’, ‘was’, ‘here’, ‘than’}"
   ]
  },
  {
   "cell_type": "markdown",
   "metadata": {},
   "source": [
    "<img src=\"negation alg.png\">"
   ]
  },
  {
   "cell_type": "code",
   "execution_count": 7,
   "metadata": {},
   "outputs": [],
   "source": [
    "# function to remove all punctuation except underscores and stop words\n",
    "\n",
    "import string \n",
    "import re\n",
    "\n",
    "def remove_punc_stop(text):\n",
    "    \n",
    "    remove = string.punctuation\n",
    "    remove = remove.replace(\"_\", \"\") # don't remove hyphens\n",
    "    pattern = r\"[{}]\".format(remove) # create the pattern\n",
    "    nopunc = re.sub(pattern, \"\", text)\n",
    "    \n",
    "    return [word for word in nopunc.split() if word.lower() not in stopwords.words('english')]\n",
    "    "
   ]
  },
  {
   "cell_type": "code",
   "execution_count": 8,
   "metadata": {},
   "outputs": [
    {
     "name": "stdout",
     "output_type": "stream",
     "text": [
      "['Temple', 'student', 'love', 'place', 'food', 'fantastic', 'gourmet', 'style', 'pizzas', 'New', 'York', 'style', 'fantastic', 'bar', 'isnt', 'expensive', 'always', 'fun', 'time']\n"
     ]
    }
   ],
   "source": [
    "sample_text = \"As a Temple student, I love this place! The food is fantastic! They have gourmet style pizzas that are New York style and fantastic. The bar isn't too expensive, and is always a fun time!\"\n",
    "\n",
    "sample_text = remove_punc_stop(sample_text)\n",
    "print(sample_text)"
   ]
  },
  {
   "cell_type": "code",
   "execution_count": 9,
   "metadata": {},
   "outputs": [],
   "source": [
    "#function to combine all preprocessing \n",
    "def text_process(text):\n",
    "    text = remove_punc_stop(text)\n",
    "    return text"
   ]
  },
  {
   "cell_type": "code",
   "execution_count": 10,
   "metadata": {},
   "outputs": [
    {
     "name": "stdout",
     "output_type": "stream",
     "text": [
      "['Temple', 'student', 'love', 'place', 'food', 'fantastic', 'gourmet', 'style', 'pizzas', 'New', 'York', 'style', 'fantastic', 'bar', 'isnt', 'expensive', 'always', 'fun', 'time']\n"
     ]
    }
   ],
   "source": [
    "sample_text = \"As a Temple student, I love this place! The food is fantastic! They have gourmet style pizzas that are New York style and fantastic. The bar isn't too expensive, and is always a fun time!\"\n",
    "\n",
    "preprocessed = text_process(sample_text)\n",
    "print(preprocessed)\n"
   ]
  },
  {
   "cell_type": "code",
   "execution_count": 11,
   "metadata": {},
   "outputs": [],
   "source": [
    "# get just the text from the collection of reviews\n",
    "review_text = reviews_sample['text']\n",
    "review_stars = reviews_sample['stars']"
   ]
  },
  {
   "cell_type": "code",
   "execution_count": 12,
   "metadata": {},
   "outputs": [],
   "source": [
    "from sklearn.feature_extraction.text import CountVectorizer"
   ]
  },
  {
   "cell_type": "code",
   "execution_count": 13,
   "metadata": {},
   "outputs": [],
   "source": [
    "# process text using text_process\n",
    "# bow_transformer = CountVectorizer(analyzer=text_process).fit(X)\n",
    "bow_transformer = CountVectorizer(analyzer=text_process).fit(review_text)"
   ]
  },
  {
   "cell_type": "code",
   "execution_count": 14,
   "metadata": {},
   "outputs": [
    {
     "data": {
      "text/plain": [
       "39729"
      ]
     },
     "execution_count": 14,
     "metadata": {},
     "output_type": "execute_result"
    }
   ],
   "source": [
    "# size of the vocabulary stored in the vectorizer\n",
    "len(bow_transformer.vocabulary_)"
   ]
  },
  {
   "cell_type": "code",
   "execution_count": 15,
   "metadata": {},
   "outputs": [
    {
     "name": "stdout",
     "output_type": "stream",
     "text": [
      "Thanks guys.. did a great job. My wife is very happy. Yes .. I would tell a friend to come see you.. to thumbs up\n",
      "\n",
      "\n",
      "  (0, 13107)\t1\n",
      "  (0, 14462)\t1\n",
      "  (0, 18877)\t1\n",
      "  (0, 23497)\t1\n",
      "  (0, 24248)\t1\n",
      "  (0, 24454)\t1\n",
      "  (0, 24640)\t1\n",
      "  (0, 26331)\t1\n",
      "  (0, 33995)\t1\n",
      "  (0, 36738)\t1\n",
      "  (0, 37068)\t1\n",
      "  (0, 39175)\t1\n",
      "  (0, 39400)\t1\n",
      "\n",
      "\n",
      "Thanh\n",
      "Yelper\n",
      "comanda\n"
     ]
    }
   ],
   "source": [
    "# Review 20\n",
    "\n",
    "# Text\n",
    "review_20 = review_text[20]\n",
    "print(review_20)\n",
    "\n",
    "# Feature Vector\n",
    "print(\"\\n\")\n",
    "bow_20 = bow_transformer.transform([review_20])\n",
    "print(bow_20)\n",
    "\n",
    "# First 3 Words\n",
    "print(\"\\n\")\n",
    "print(bow_transformer.get_feature_names()[13102])\n",
    "print(bow_transformer.get_feature_names()[14457])\n",
    "print(bow_transformer.get_feature_names()[18862])"
   ]
  },
  {
   "cell_type": "code",
   "execution_count": 16,
   "metadata": {},
   "outputs": [
    {
     "name": "stdout",
     "output_type": "stream",
     "text": [
      "Took a free trial class this weekend and signed up for an unlimited membership. I really appreciate the friendly and kind staff, and Stephanie has been my favorite trainer so far. Hours are perfect for my work schedule and I love the weekend hours as well.\r",
      "\r\n",
      "\r",
      "\r\n",
      "I would like to update with a few more things that I love about Orange Theory: (1) Class size is limited. Ensures that everyone has enough space. (2) The apps that keep track of your classes and monitor your progress are fab! I love apps. (3) Trainer directed class. It's like having a personal trainer. You just listen and go! (4) Every class is different. (5) Nearly impossible to slack off and not have a great workout.\n",
      "\n",
      "\n",
      "  (0, 31)\t1\n",
      "  (0, 450)\t1\n",
      "  (0, 659)\t1\n",
      "  (0, 791)\t1\n",
      "  (0, 913)\t1\n",
      "  (0, 3798)\t1\n",
      "  (0, 5126)\t1\n",
      "  (0, 5215)\t1\n",
      "  (0, 6825)\t1\n",
      "  (0, 9315)\t1\n",
      "  (0, 9712)\t1\n",
      "  (0, 12531)\t1\n",
      "  (0, 13116)\t1\n",
      "  (0, 13272)\t1\n",
      "  (0, 13344)\t1\n",
      "  (0, 15553)\t1\n",
      "  (0, 15572)\t2\n",
      "  (0, 18574)\t3\n",
      "  (0, 18576)\t1\n",
      "  (0, 20695)\t1\n",
      "  (0, 20788)\t1\n",
      "  (0, 21881)\t1\n",
      "  (0, 22139)\t1\n",
      "  (0, 22470)\t1\n",
      "  (0, 22606)\t1\n",
      "  :\t:\n",
      "  (0, 27188)\t1\n",
      "  (0, 27401)\t3\n",
      "  (0, 28042)\t1\n",
      "  (0, 28502)\t1\n",
      "  (0, 30534)\t1\n",
      "  (0, 30597)\t1\n",
      "  (0, 31664)\t1\n",
      "  (0, 32267)\t1\n",
      "  (0, 33779)\t1\n",
      "  (0, 34568)\t1\n",
      "  (0, 34670)\t1\n",
      "  (0, 34747)\t1\n",
      "  (0, 35241)\t1\n",
      "  (0, 35533)\t1\n",
      "  (0, 36967)\t1\n",
      "  (0, 37454)\t1\n",
      "  (0, 37486)\t2\n",
      "  (0, 37598)\t1\n",
      "  (0, 38080)\t1\n",
      "  (0, 38196)\t1\n",
      "  (0, 38961)\t2\n",
      "  (0, 39006)\t1\n",
      "  (0, 39352)\t1\n",
      "  (0, 39363)\t1\n",
      "  (0, 39400)\t1\n",
      "\n",
      "\n",
      "clambering\n",
      "louddiscussing\n"
     ]
    }
   ],
   "source": [
    "review_50 = review_text[50]\n",
    "print(review_50)\n",
    "\n",
    "print(\"\\n\")\n",
    "bow_50 = bow_transformer.transform([review_50])\n",
    "print(bow_50)\n",
    "\n",
    "# words that appears 3 times\n",
    "print(\"\\n\")\n",
    "print(bow_transformer.get_feature_names()[18559])\n",
    "print(bow_transformer.get_feature_names()[27386])"
   ]
  },
  {
   "cell_type": "code",
   "execution_count": 17,
   "metadata": {},
   "outputs": [],
   "source": [
    "#X = bow_transformer.transform(X)\n",
    "\n",
    "transformed_review_text = bow_transformer.transform(review_text)\n"
   ]
  },
  {
   "cell_type": "code",
   "execution_count": 18,
   "metadata": {},
   "outputs": [
    {
     "name": "stdout",
     "output_type": "stream",
     "text": [
      "Shape of Sparse Matrix:  (10000, 39729)\n",
      "Amount of Non-Zero occurrences:  495061\n",
      "Density:  0.1246094792217272\n"
     ]
    }
   ],
   "source": [
    "print('Shape of Sparse Matrix: ', transformed_review_text.shape)\n",
    "print('Amount of Non-Zero occurrences: ', transformed_review_text.nnz)\n",
    "# Percentage of non-zero values\n",
    "density = (100.0 * transformed_review_text.nnz / (transformed_review_text.shape[0] * transformed_review_text.shape[1]))\n",
    "print('Density: ', density)"
   ]
  },
  {
   "cell_type": "markdown",
   "metadata": {},
   "source": [
    "### Train Model\n",
    "#### Method 1: Remove stop words and punctuation"
   ]
  },
  {
   "cell_type": "code",
   "execution_count": 19,
   "metadata": {},
   "outputs": [],
   "source": [
    "from sklearn.model_selection import train_test_split\n",
    "\n",
    "#X_train, X_test, y_train, y_test = train_test_split(X, y, test_size=0.3, random_state=101)\n",
    "X_train, X_test, y_train, y_test = train_test_split(transformed_review_text, review_stars, test_size=0.3, random_state=101)"
   ]
  },
  {
   "cell_type": "code",
   "execution_count": 20,
   "metadata": {},
   "outputs": [
    {
     "data": {
      "text/plain": [
       "MultinomialNB(alpha=1.0, class_prior=None, fit_prior=True)"
      ]
     },
     "execution_count": 20,
     "metadata": {},
     "output_type": "execute_result"
    }
   ],
   "source": [
    "from sklearn.naive_bayes import MultinomialNB\n",
    "\n",
    "# train model\n",
    "nb = MultinomialNB()\n",
    "nb.fit(X_train, y_train)"
   ]
  },
  {
   "cell_type": "code",
   "execution_count": 21,
   "metadata": {},
   "outputs": [],
   "source": [
    "# store predictions as a separate dataframe\n",
    "preds = nb.predict(X_test)"
   ]
  },
  {
   "cell_type": "code",
   "execution_count": 22,
   "metadata": {},
   "outputs": [
    {
     "name": "stdout",
     "output_type": "stream",
     "text": [
      "Confusion Matrix\n",
      "\n",
      "[[ 321    7   10   48   55]\n",
      " [  72    5    7   84   51]\n",
      " [  36    5   10  178   93]\n",
      " [  27    7    8  346  342]\n",
      " [  54    3    0  180 1051]]\n",
      "\n",
      "\n",
      "             precision    recall  f1-score   support\n",
      "\n",
      "        1.0       0.63      0.73      0.68       441\n",
      "        2.0       0.19      0.02      0.04       219\n",
      "        3.0       0.29      0.03      0.06       322\n",
      "        4.0       0.41      0.47      0.44       730\n",
      "        5.0       0.66      0.82      0.73      1288\n",
      "\n",
      "avg / total       0.52      0.58      0.53      3000\n",
      "\n"
     ]
    }
   ],
   "source": [
    "from sklearn.metrics import confusion_matrix, classification_report\n",
    "\n",
    "# confusion matrix\n",
    "print(\"Confusion Matrix\\n\")\n",
    "print(confusion_matrix(y_test, preds))\n",
    "print('\\n')\n",
    "print(classification_report(y_test, preds))"
   ]
  },
  {
   "cell_type": "code",
   "execution_count": 5,
   "metadata": {},
   "outputs": [
    {
     "name": "stdout",
     "output_type": "stream",
     "text": [
      "Collecting mlxtend\n",
      "  Downloading https://files.pythonhosted.org/packages/16/e6/30e50ed9c053a1530c83149090e1f5fd9fccc8503dca2ecce1bb52f34de0/mlxtend-0.15.0.0-py2.py3-none-any.whl (1.3MB)\n",
      "Requirement already satisfied: scikit-learn>=0.18 in c:\\programdata\\anaconda3\\lib\\site-packages (from mlxtend) (0.19.1)\n",
      "Requirement already satisfied: scipy>=0.17 in c:\\programdata\\anaconda3\\lib\\site-packages (from mlxtend) (1.1.0)\n",
      "Requirement already satisfied: pandas>=0.17.1 in c:\\programdata\\anaconda3\\lib\\site-packages (from mlxtend) (0.23.0)\n",
      "Requirement already satisfied: numpy>=1.10.4 in c:\\programdata\\anaconda3\\lib\\site-packages (from mlxtend) (1.14.3)\n",
      "Requirement already satisfied: matplotlib>=1.5.1 in c:\\programdata\\anaconda3\\lib\\site-packages (from mlxtend) (2.2.2)\n",
      "Requirement already satisfied: setuptools in c:\\programdata\\anaconda3\\lib\\site-packages (from mlxtend) (39.1.0)\n",
      "Requirement already satisfied: pytz>=2011k in c:\\programdata\\anaconda3\\lib\\site-packages (from pandas>=0.17.1->mlxtend) (2018.4)\n",
      "Requirement already satisfied: python-dateutil>=2.5.0 in c:\\programdata\\anaconda3\\lib\\site-packages (from pandas>=0.17.1->mlxtend) (2.7.3)\n",
      "Requirement already satisfied: cycler>=0.10 in c:\\programdata\\anaconda3\\lib\\site-packages (from matplotlib>=1.5.1->mlxtend) (0.10.0)\n",
      "Requirement already satisfied: pyparsing!=2.0.4,!=2.1.2,!=2.1.6,>=2.0.1 in c:\\programdata\\anaconda3\\lib\\site-packages (from matplotlib>=1.5.1->mlxtend) (2.2.0)\n",
      "Requirement already satisfied: six>=1.10 in c:\\programdata\\anaconda3\\lib\\site-packages (from matplotlib>=1.5.1->mlxtend) (1.11.0)\n",
      "Requirement already satisfied: kiwisolver>=1.0.1 in c:\\programdata\\anaconda3\\lib\\site-packages (from matplotlib>=1.5.1->mlxtend) (1.0.1)\n",
      "Installing collected packages: mlxtend\n",
      "Successfully installed mlxtend-0.15.0.0\n"
     ]
    },
    {
     "name": "stderr",
     "output_type": "stream",
     "text": [
      "distributed 1.21.8 requires msgpack, which is not installed.\n",
      "You are using pip version 10.0.1, however version 19.1 is available.\n",
      "You should consider upgrading via the 'python -m pip install --upgrade pip' command.\n"
     ]
    }
   ],
   "source": [
    "! pip install mlxtend "
   ]
  },
  {
   "cell_type": "code",
   "execution_count": 6,
   "metadata": {},
   "outputs": [],
   "source": [
    "from mlxtend.plotting import plot_confusion_matrix\n",
    "import matplotlib.pyplot as plt\n",
    "import numpy as np"
   ]
  },
  {
   "cell_type": "code",
   "execution_count": 13,
   "metadata": {},
   "outputs": [
    {
     "data": {
      "image/png": "[encoded data removed]",
      "text/plain": [
       "<Figure size 360x360 with 1 Axes>"
      ]
     },
     "metadata": {},
     "output_type": "display_data"
    }
   ],
   "source": [
    "binary = np.array([[321,7,10,48,55],\n",
    " [72,5,7,84,51],\n",
    " [36,5,10,178,93],\n",
    " [27,7,8,346,342],\n",
    " [54,3,0,180,1051]])\n",
    "\n",
    "labels = ['1-star', '2-star', '3-star', '4-star', '5-star']\n",
    "fig, ax = plot_confusion_matrix(conf_mat=binary, figsize=(5,5))\n",
    "ax.set_xticklabels([''] + labels)\n",
    "ax.set_yticklabels([''] + labels)\n",
    "plt.title('Figure 1. Confusion Matrix: Iteration 1')\n",
    "plt.show()"
   ]
  },
  {
   "cell_type": "code",
   "execution_count": null,
   "metadata": {},
   "outputs": [],
   "source": []
  }
 ],
 "metadata": {
  "kernelspec": {
   "display_name": "Python 3",
   "language": "python",
   "name": "python3"
  },
  "language_info": {
   "codemirror_mode": {
    "name": "ipython",
    "version": 3
   },
   "file_extension": ".py",
   "mimetype": "text/x-python",
   "name": "python",
   "nbconvert_exporter": "python",
   "pygments_lexer": "ipython3",
   "version": "3.6.5"
  }
 },
 "nbformat": 4,
 "nbformat_minor": 2
}
