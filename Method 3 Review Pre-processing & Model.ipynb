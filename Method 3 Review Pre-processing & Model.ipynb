{
 "cells": [
  {
   "cell_type": "markdown",
   "metadata": {},
   "source": [
    "# Method 3: Pre-processing and Train Model\n",
    "### Pre-processing"
   ]
  },
  {
   "cell_type": "code",
   "execution_count": 1,
   "metadata": {},
   "outputs": [],
   "source": [
    "import pandas as pd\n",
    "import numpy as np"
   ]
  },
  {
   "cell_type": "code",
   "execution_count": 2,
   "metadata": {},
   "outputs": [],
   "source": [
    "reviews_sample = pd.read_csv('reviews10000.csv')"
   ]
  },
  {
   "cell_type": "code",
   "execution_count": 3,
   "metadata": {
    "scrolled": true
   },
   "outputs": [
    {
     "data": {
      "text/html": [
       "<div>\n",
       "<style scoped>\n",
       "    .dataframe tbody tr th:only-of-type {\n",
       "        vertical-align: middle;\n",
       "    }\n",
       "\n",
       "    .dataframe tbody tr th {\n",
       "        vertical-align: top;\n",
       "    }\n",
       "\n",
       "    .dataframe thead th {\n",
       "        text-align: right;\n",
       "    }\n",
       "</style>\n",
       "<table border=\"1\" class=\"dataframe\">\n",
       "  <thead>\n",
       "    <tr style=\"text-align: right;\">\n",
       "      <th></th>\n",
       "      <th>Unnamed: 0</th>\n",
       "      <th>review_id</th>\n",
       "      <th>user_id</th>\n",
       "      <th>business_id</th>\n",
       "      <th>stars</th>\n",
       "      <th>date</th>\n",
       "      <th>text</th>\n",
       "      <th>useful</th>\n",
       "      <th>funny</th>\n",
       "      <th>cool</th>\n",
       "    </tr>\n",
       "  </thead>\n",
       "  <tbody>\n",
       "    <tr>\n",
       "      <th>0</th>\n",
       "      <td>4694397</td>\n",
       "      <td>Llol4TRuLoVmCsbVSnuIDA</td>\n",
       "      <td>75JyTel9uUs7VNFhTmK56w</td>\n",
       "      <td>sPwgafejYVdf8hd4-oDYVg</td>\n",
       "      <td>1.0</td>\n",
       "      <td>2015-08-30 17:32:01</td>\n",
       "      <td>Awful. The lemon pepper wing sauce is black fo...</td>\n",
       "      <td>0</td>\n",
       "      <td>0</td>\n",
       "      <td>0</td>\n",
       "    </tr>\n",
       "    <tr>\n",
       "      <th>1</th>\n",
       "      <td>3142277</td>\n",
       "      <td>moHHEwAINiwsjohq6doYrQ</td>\n",
       "      <td>lhDgwKq2Gh8TIIyexubRag</td>\n",
       "      <td>9U4Tqt5SkZKQ6eeH6IPSxQ</td>\n",
       "      <td>5.0</td>\n",
       "      <td>2018-04-11 04:36:23</td>\n",
       "      <td>We had an awesome experience at hibachi. Our c...</td>\n",
       "      <td>0</td>\n",
       "      <td>0</td>\n",
       "      <td>1</td>\n",
       "    </tr>\n",
       "    <tr>\n",
       "      <th>2</th>\n",
       "      <td>2342009</td>\n",
       "      <td>6TF21--YL6ig6r0Oae1qGA</td>\n",
       "      <td>jpib9MAMB_aVxyCDUi9VAg</td>\n",
       "      <td>yFUvKpW66cNsYXD6inDsog</td>\n",
       "      <td>5.0</td>\n",
       "      <td>2015-01-27 03:54:16</td>\n",
       "      <td>I truly enjoy this neighborhood spot. Good foo...</td>\n",
       "      <td>0</td>\n",
       "      <td>0</td>\n",
       "      <td>0</td>\n",
       "    </tr>\n",
       "    <tr>\n",
       "      <th>3</th>\n",
       "      <td>3547267</td>\n",
       "      <td>MN2PqoIWECNmI3fuqdZyEA</td>\n",
       "      <td>bFF1HZzb8k3gimLHU52bQA</td>\n",
       "      <td>WnOVGJTu7RK0iWurrgiBNA</td>\n",
       "      <td>5.0</td>\n",
       "      <td>2018-06-28 19:06:47</td>\n",
       "      <td>Best tanning place around in NC\\r\\r\\nHope and ...</td>\n",
       "      <td>0</td>\n",
       "      <td>0</td>\n",
       "      <td>0</td>\n",
       "    </tr>\n",
       "    <tr>\n",
       "      <th>4</th>\n",
       "      <td>4449537</td>\n",
       "      <td>MG4o8ke2G6VYXDy1HUCbIg</td>\n",
       "      <td>PT3whiZ1mW3psCz_lcp7ww</td>\n",
       "      <td>6BO1PcdtU6idqO0njUnCYA</td>\n",
       "      <td>1.0</td>\n",
       "      <td>2016-07-12 16:49:09</td>\n",
       "      <td>Staff is horrible. Last time I ordered from he...</td>\n",
       "      <td>0</td>\n",
       "      <td>0</td>\n",
       "      <td>1</td>\n",
       "    </tr>\n",
       "  </tbody>\n",
       "</table>\n",
       "</div>"
      ],
      "text/plain": [
       "   Unnamed: 0               review_id                 user_id  \\\n",
       "0     4694397  Llol4TRuLoVmCsbVSnuIDA  75JyTel9uUs7VNFhTmK56w   \n",
       "1     3142277  moHHEwAINiwsjohq6doYrQ  lhDgwKq2Gh8TIIyexubRag   \n",
       "2     2342009  6TF21--YL6ig6r0Oae1qGA  jpib9MAMB_aVxyCDUi9VAg   \n",
       "3     3547267  MN2PqoIWECNmI3fuqdZyEA  bFF1HZzb8k3gimLHU52bQA   \n",
       "4     4449537  MG4o8ke2G6VYXDy1HUCbIg  PT3whiZ1mW3psCz_lcp7ww   \n",
       "\n",
       "              business_id  stars                 date  \\\n",
       "0  sPwgafejYVdf8hd4-oDYVg    1.0  2015-08-30 17:32:01   \n",
       "1  9U4Tqt5SkZKQ6eeH6IPSxQ    5.0  2018-04-11 04:36:23   \n",
       "2  yFUvKpW66cNsYXD6inDsog    5.0  2015-01-27 03:54:16   \n",
       "3  WnOVGJTu7RK0iWurrgiBNA    5.0  2018-06-28 19:06:47   \n",
       "4  6BO1PcdtU6idqO0njUnCYA    1.0  2016-07-12 16:49:09   \n",
       "\n",
       "                                                text  useful  funny  cool  \n",
       "0  Awful. The lemon pepper wing sauce is black fo...       0      0     0  \n",
       "1  We had an awesome experience at hibachi. Our c...       0      0     1  \n",
       "2  I truly enjoy this neighborhood spot. Good foo...       0      0     0  \n",
       "3  Best tanning place around in NC\\r\\r\\nHope and ...       0      0     0  \n",
       "4  Staff is horrible. Last time I ordered from he...       0      0     1  "
      ]
     },
     "execution_count": 3,
     "metadata": {},
     "output_type": "execute_result"
    }
   ],
   "source": [
    "reviews_sample.head()"
   ]
  },
  {
   "cell_type": "code",
   "execution_count": 4,
   "metadata": {},
   "outputs": [],
   "source": [
    "from nltk.corpus import stopwords \n",
    "from nltk.tokenize import word_tokenize "
   ]
  },
  {
   "cell_type": "code",
   "execution_count": 5,
   "metadata": {},
   "outputs": [
    {
     "name": "stderr",
     "output_type": "stream",
     "text": [
      "[nltk_data] Downloading package stopwords to\n",
      "[nltk_data]     /Users/svmanning/nltk_data...\n",
      "[nltk_data]   Package stopwords is already up-to-date!\n"
     ]
    },
    {
     "data": {
      "text/plain": [
       "True"
      ]
     },
     "execution_count": 5,
     "metadata": {},
     "output_type": "execute_result"
    }
   ],
   "source": [
    "import nltk\n",
    "nltk.download('stopwords')"
   ]
  },
  {
   "cell_type": "code",
   "execution_count": 6,
   "metadata": {},
   "outputs": [
    {
     "name": "stderr",
     "output_type": "stream",
     "text": [
      "[nltk_data] Downloading package punkt to /Users/svmanning/nltk_data...\n",
      "[nltk_data]   Package punkt is already up-to-date!\n"
     ]
    },
    {
     "data": {
      "text/plain": [
       "True"
      ]
     },
     "execution_count": 6,
     "metadata": {},
     "output_type": "execute_result"
    }
   ],
   "source": [
    "nltk.download('punkt')"
   ]
  },
  {
   "cell_type": "code",
   "execution_count": 7,
   "metadata": {},
   "outputs": [
    {
     "name": "stderr",
     "output_type": "stream",
     "text": [
      "[nltk_data] Downloading package averaged_perceptron_tagger to\n",
      "[nltk_data]     /Users/svmanning/nltk_data...\n",
      "[nltk_data]   Package averaged_perceptron_tagger is already up-to-\n",
      "[nltk_data]       date!\n"
     ]
    },
    {
     "data": {
      "text/plain": [
       "True"
      ]
     },
     "execution_count": 7,
     "metadata": {},
     "output_type": "execute_result"
    }
   ],
   "source": [
    " nltk.download('averaged_perceptron_tagger')"
   ]
  },
  {
   "cell_type": "markdown",
   "metadata": {},
   "source": [
    "***Preprocessing***\n",
    "1. Expand contractions\n",
    "2. Handle negation \n",
    "3. Remove punctuation\n",
    "4. Remove stop words\n",
    "5. bigrams, trigrams, fourgrams"
   ]
  },
  {
   "cell_type": "markdown",
   "metadata": {},
   "source": [
    "***STOP WORDS***\n",
    "\n",
    "{‘ourselves’, ‘hers’, ‘between’, ‘yourself’, ‘but’, ‘again’, ‘there’, ‘about’, ‘once’, ‘during’, ‘out’, ‘very’, ‘having’, ‘with’, ‘they’, ‘own’, ‘an’, ‘be’, ‘some’, ‘for’, ‘do’, ‘its’, ‘yours’, ‘such’, ‘into’, ‘of’, ‘most’, ‘itself’, ‘other’, ‘off’, ‘is’, ‘s’, ‘am’, ‘or’, ‘who’, ‘as’, ‘from’, ‘him’, ‘each’, ‘the’, ‘themselves’, ‘until’, ‘below’, ‘are’, ‘we’, ‘these’, ‘your’, ‘his’, ‘through’, ‘don’, ‘nor’, ‘me’, ‘were’, ‘her’, ‘more’, ‘himself’, ‘this’, ‘down’, ‘should’, ‘our’, ‘their’, ‘while’, ‘above’, ‘both’, ‘up’, ‘to’, ‘ours’, ‘had’, ‘she’, ‘all’, ‘no’, ‘when’, ‘at’, ‘any’, ‘before’, ‘them’, ‘same’, ‘and’, ‘been’, ‘have’, ‘in’, ‘will’, ‘on’, ‘does’, ‘yourselves’, ‘then’, ‘that’, ‘because’, ‘what’, ‘over’, ‘why’, ‘so’, ‘can’, ‘did’, ‘not’, ‘now’, ‘under’, ‘he’, ‘you’, ‘herself’, ‘has’, ‘just’, ‘where’, ‘too’, ‘only’, ‘myself’, ‘which’, ‘those’, ‘i’, ‘after’, ‘few’, ‘whom’, ‘t’, ‘being’, ‘if’, ‘theirs’, ‘my’, ‘against’, ‘a’, ‘by’, ‘doing’, ‘it’, ‘how’, ‘further’, ‘was’, ‘here’, ‘than’}"
   ]
  },
  {
   "cell_type": "markdown",
   "metadata": {},
   "source": [
    "<img src=\"negation alg.png\">"
   ]
  },
  {
   "cell_type": "code",
   "execution_count": 8,
   "metadata": {},
   "outputs": [],
   "source": [
    "contractions_dict = { \n",
    "\"ain't\": \"am not / are not / is not / has not / have not\",\n",
    "\"aren't\": \"are not / am not\",\n",
    "\"can't\": \"cannot\",\n",
    "\"can't've\": \"cannot have\",\n",
    "\"'cause\": \"because\",\n",
    "\"could've\": \"could have\",\n",
    "\"couldn't\": \"could not\",\n",
    "\"couldn't've\": \"could not have\",\n",
    "\"didn't\": \"did not\",\n",
    "\"doesn't\": \"does not\",\n",
    "\"don't\": \"do not\",\n",
    "\"hadn't\": \"had not\",\n",
    "\"hadn't've\": \"had not have\",\n",
    "\"hasn't\": \"has not\",\n",
    "\"haven't\": \"have not\",\n",
    "\"he'd\": \"he had / he would\",\n",
    "\"he'd've\": \"he would have\",\n",
    "\"he'll\": \"he shall / he will\",\n",
    "\"he'll've\": \"he shall have / he will have\",\n",
    "\"he's\": \"he has / he is\",\n",
    "\"how'd\": \"how did\",\n",
    "\"how'd'y\": \"how do you\",\n",
    "\"how'll\": \"how will\",\n",
    "\"how's\": \"how has / how is / how does\",\n",
    "\"I'd\": \"I had / I would\",\n",
    "\"I'd've\": \"I would have\",\n",
    "\"I'll\": \"I shall / I will\",\n",
    "\"I'll've\": \"I shall have / I will have\",\n",
    "\"I'm\": \"I am\",\n",
    "\"I've\": \"I have\",\n",
    "\"isn't\": \"is not\",\n",
    "\"it'd\": \"it had / it would\",\n",
    "\"it'd've\": \"it would have\",\n",
    "\"it'll\": \"it shall / it will\",\n",
    "\"it'll've\": \"it shall have / it will have\",\n",
    "\"it's\": \"it has / it is\",\n",
    "\"let's\": \"let us\",\n",
    "\"ma'am\": \"madam\",\n",
    "\"mayn't\": \"may not\",\n",
    "\"might've\": \"might have\",\n",
    "\"mightn't\": \"might not\",\n",
    "\"mightn't've\": \"might not have\",\n",
    "\"must've\": \"must have\",\n",
    "\"mustn't\": \"must not\",\n",
    "\"mustn't've\": \"must not have\",\n",
    "\"needn't\": \"need not\",\n",
    "\"needn't've\": \"need not have\",\n",
    "\"o'clock\": \"of the clock\",\n",
    "\"oughtn't\": \"ought not\",\n",
    "\"oughtn't've\": \"ought not have\",\n",
    "\"shan't\": \"shall not\",\n",
    "\"sha'n't\": \"shall not\",\n",
    "\"shan't've\": \"shall not have\",\n",
    "\"she'd\": \"she had / she would\",\n",
    "\"she'd've\": \"she would have\",\n",
    "\"she'll\": \"she shall / she will\",\n",
    "\"she'll've\": \"she shall have / she will have\",\n",
    "\"she's\": \"she has / she is\",\n",
    "\"should've\": \"should have\",\n",
    "\"shouldn't\": \"should not\",\n",
    "\"shouldn't've\": \"should not have\",\n",
    "\"so've\": \"so have\",\n",
    "\"so's\": \"so as / so is\",\n",
    "\"that'd\": \"that would / that had\",\n",
    "\"that'd've\": \"that would have\",\n",
    "\"that's\": \"that has / that is\",\n",
    "\"there'd\": \"there had / there would\",\n",
    "\"there'd've\": \"there would have\",\n",
    "\"there's\": \"there has / there is\",\n",
    "\"they'd\": \"they had / they would\",\n",
    "\"they'd've\": \"they would have\",\n",
    "\"they'll\": \"they shall / they will\",\n",
    "\"they'll've\": \"they shall have / they will have\",\n",
    "\"they're\": \"they are\",\n",
    "\"they've\": \"they have\",\n",
    "\"to've\": \"to have\",\n",
    "\"wasn't\": \"was not\",\n",
    "\"we'd\": \"we had / we would\",\n",
    "\"we'd've\": \"we would have\",\n",
    "\"we'll\": \"we will\",\n",
    "\"we'll've\": \"we will have\",\n",
    "\"we're\": \"we are\",\n",
    "\"we've\": \"we have\",\n",
    "\"weren't\": \"were not\",\n",
    "\"what'll\": \"what shall / what will\",\n",
    "\"what'll've\": \"what shall have / what will have\",\n",
    "\"what're\": \"what are\",\n",
    "\"what's\": \"what has / what is\",\n",
    "\"what've\": \"what have\",\n",
    "\"when's\": \"when has / when is\",\n",
    "\"when've\": \"when have\",\n",
    "\"where'd\": \"where did\",\n",
    "\"where's\": \"where has / where is\",\n",
    "\"where've\": \"where have\",\n",
    "\"who'll\": \"who shall / who will\",\n",
    "\"who'll've\": \"who shall have / who will have\",\n",
    "\"who's\": \"who has / who is\",\n",
    "\"who've\": \"who have\",\n",
    "\"why's\": \"why has / why is\",\n",
    "\"why've\": \"why have\",\n",
    "\"will've\": \"will have\",\n",
    "\"won't\": \"will not\",\n",
    "\"won't've\": \"will not have\",\n",
    "\"would've\": \"would have\",\n",
    "\"wouldn't\": \"would not\",\n",
    "\"wouldn't've\": \"would not have\",\n",
    "\"y'all\": \"you all\",\n",
    "\"y'all'd\": \"you all would\",\n",
    "\"y'all'd've\": \"you all would have\",\n",
    "\"y'all're\": \"you all are\",\n",
    "\"y'all've\": \"you all have\",\n",
    "\"you'd\": \"you had / you would\",\n",
    "\"you'd've\": \"you would have\",\n",
    "\"you'll\": \"you shall / you will\",\n",
    "\"you'll've\": \"you shall have / you will have\",\n",
    "\"you're\": \"you are\",\n",
    "\"you've\": \"you have\"\n",
    "}"
   ]
  },
  {
   "cell_type": "code",
   "execution_count": 9,
   "metadata": {},
   "outputs": [],
   "source": [
    "#function to expand contractions to their full form \n",
    "\n",
    "import re\n",
    "\n",
    "contractions_re = re.compile('(%s)' % '|'.join(contractions_dict.keys()))\n",
    "def expand_contractions(s, contractions_dict=contractions_dict):\n",
    "    def replace(match):\n",
    "        return contractions_dict[match.group(0)]\n",
    "    \n",
    "    return contractions_re.sub(replace, s)"
   ]
  },
  {
   "cell_type": "code",
   "execution_count": 10,
   "metadata": {},
   "outputs": [
    {
     "name": "stdout",
     "output_type": "stream",
     "text": [
      "As a Temple student, I love this place! The food is fantastic! They have gourmet style pizzas that are New York style and fantastic. The bar is not too expensive, and is always a fun time!\n"
     ]
    }
   ],
   "source": [
    "sample_text = \"As a Temple student, I love this place! The food is fantastic! They have gourmet style pizzas that are New York style and fantastic. The bar isn't too expensive, and is always a fun time!\"\n",
    "\n",
    "sample_text = expand_contractions(sample_text)\n",
    "\n",
    "print(sample_text)"
   ]
  },
  {
   "cell_type": "code",
   "execution_count": 11,
   "metadata": {},
   "outputs": [],
   "source": [
    "negation_vocab = [\"not\", \"no\"]\n",
    "\n",
    "adj_noun_verb = [\"JJ\", \"JJR\", \"JJS\", \"NN\", \"NNP\", \"NNPS\", \"NNS\", \"VB\", \"VBD\", \"VBG\", \"VBN\", \"VBP\", \"VBZ\"]\n",
    "\n",
    "adverb_determiner = [\"RB\", \"RBR\", \"RBS\", \"DT\"]\n",
    "adjective = [\"JJ\", \"JJR\", \"JJS\"]\n",
    "\n",
    "adverb = [\"RB\", \"RBR\", \"RBS\"]\n"
   ]
  },
  {
   "cell_type": "code",
   "execution_count": 12,
   "metadata": {},
   "outputs": [],
   "source": [
    "#implementation of above algorithm\n",
    "import nltk\n",
    "\n",
    "def handle_negations(text):\n",
    "    text = text.split()\n",
    "    \n",
    "    flag = False\n",
    "    \n",
    "    for i in range(0,len(text)):\n",
    "        \n",
    "        word = text[i]\n",
    "        # get the next word\n",
    "        if i+1 < (len(text)-1):\n",
    "            next_word = text[i+1]\n",
    "        else:\n",
    "            next_word = \"\"\n",
    "        \n",
    "        # get the next next word\n",
    "        if i+2 < (len(text)-1):\n",
    "            next_next_word = text[i+2]\n",
    "        else:\n",
    "            next_next_word = \"\"\n",
    "        \n",
    "        \n",
    "        # if word is a negation word switch the flag\n",
    "        if word in negation_vocab:\n",
    "            flag = not flag\n",
    "            #print(\"Switching Flag\")\n",
    "        \n",
    "        if flag == True:\n",
    "            \n",
    "            if i < (len(text)-1):\n",
    "                word_pos = get_POS(text, i)\n",
    "            else:\n",
    "                word_pos = \"BLANK\"\n",
    "            \n",
    "            if i+1 < (len(text)-1):\n",
    "                next_word_pos = get_POS(text, i+1)\n",
    "            else:\n",
    "                next_word_pos = \"BLANK\"\n",
    "            \n",
    "            if i+2 < (len(text)-1):\n",
    "                next_next_word_pos = get_POS(text, i+2)\n",
    "            else:\n",
    "                next_next_word_pos = \"BLANK\"\n",
    "            \n",
    "            #print(word, next_word, next_next_word)\n",
    "            #print(word_pos, next_word_pos, next_next_word_pos)\n",
    "            \n",
    "            #if word adj, noun, verb\n",
    "            if next_word_pos in adj_noun_verb:\n",
    "                #print(\"word is adjective, noun, or verb\")\n",
    "                next_word = \"not_\" + next_word\n",
    "                #print(next_word)\n",
    "                text[i+1] = next_word\n",
    "               \n",
    "            \n",
    "            #if word adverb or determiner & next word adjective\n",
    "            if word_pos in adverb_determiner and next_word_pos in adjective:\n",
    "                #print(\"word is adverb or determiner\")\n",
    "                next_word = \"not_\" + next_word\n",
    "                #print(next_word)\n",
    "                text[i+1] = next_word\n",
    "            \n",
    "            #if word determiner and next word adverb and next next word adjective\n",
    "            if word_pos in adverb_determiner and next_word_pos in adverb and next_next_word_pos in adjective:\n",
    "                #print(\"word is determiner\")\n",
    "                next_next_word = \"not_\" + next_next_word\n",
    "                #print(next_next_word)\n",
    "                text[i+2] = next_next_word\n",
    "        \n",
    "            flag = False\n",
    "\n",
    "    return ' '.join(text)"
   ]
  },
  {
   "cell_type": "code",
   "execution_count": 16,
   "metadata": {},
   "outputs": [
    {
     "name": "stdout",
     "output_type": "stream",
     "text": [
      "As a Temple student, I love this place! The food is fantastic! They have gourmet style pizzas that are New York style and fantastic. The bar is not too not_expensive, and is always a fun time!\n"
     ]
    }
   ],
   "source": [
    "sample_text = \"As a Temple student, I love this place! The food is fantastic! They have gourmet style pizzas that are New York style and fantastic. The bar isn't too expensive, and is always a fun time!\"\n",
    "sample_text = expand_contractions(sample_text)\n",
    "\n",
    "text = handle_negations(sample_text)\n",
    "print(text)\n",
    "\n",
    "\n"
   ]
  },
  {
   "cell_type": "code",
   "execution_count": 17,
   "metadata": {},
   "outputs": [
    {
     "data": {
      "text/plain": [
       "'Good appetizer but I was not not_impressed with the pasta dishes.'"
      ]
     },
     "execution_count": 17,
     "metadata": {},
     "output_type": "execute_result"
    }
   ],
   "source": [
    "sample_text_2 = \"Good appetizer but I wasn't impressed with the pasta dishes.\"  \n",
    "sample_text_2 = expand_contractions(sample_text_2)\n",
    "\n",
    "handle_negations(sample_text_2)"
   ]
  },
  {
   "cell_type": "code",
   "execution_count": 15,
   "metadata": {},
   "outputs": [],
   "source": [
    "# function to get the part of speech of a word\n",
    "\n",
    "def get_POS(word_list, position):    \n",
    "    pos_tuple = nltk.pos_tag(word_list)\n",
    "    (word, pos) = pos_tuple[position]\n",
    "    \n",
    "    return pos"
   ]
  },
  {
   "cell_type": "code",
   "execution_count": 37,
   "metadata": {},
   "outputs": [
    {
     "name": "stdout",
     "output_type": "stream",
     "text": [
      "[nltk_data] Downloading package tagsets to\n",
      "[nltk_data]     C:\\Users\\tuf87933\\AppData\\Roaming\\nltk_data...\n",
      "[nltk_data]   Unzipping help\\tagsets.zip.\n"
     ]
    },
    {
     "data": {
      "text/plain": [
       "True"
      ]
     },
     "execution_count": 37,
     "metadata": {},
     "output_type": "execute_result"
    }
   ],
   "source": [
    " nltk.download('tagsets')"
   ]
  },
  {
   "cell_type": "code",
   "execution_count": 38,
   "metadata": {},
   "outputs": [
    {
     "name": "stdout",
     "output_type": "stream",
     "text": [
      "$: dollar\n",
      "    $ -$ --$ A$ C$ HK$ M$ NZ$ S$ U.S.$ US$\n",
      "'': closing quotation mark\n",
      "    ' ''\n",
      "(: opening parenthesis\n",
      "    ( [ {\n",
      "): closing parenthesis\n",
      "    ) ] }\n",
      ",: comma\n",
      "    ,\n",
      "--: dash\n",
      "    --\n",
      ".: sentence terminator\n",
      "    . ! ?\n",
      ":: colon or ellipsis\n",
      "    : ; ...\n",
      "CC: conjunction, coordinating\n",
      "    & 'n and both but either et for less minus neither nor or plus so\n",
      "    therefore times v. versus vs. whether yet\n",
      "CD: numeral, cardinal\n",
      "    mid-1890 nine-thirty forty-two one-tenth ten million 0.5 one forty-\n",
      "    seven 1987 twenty '79 zero two 78-degrees eighty-four IX '60s .025\n",
      "    fifteen 271,124 dozen quintillion DM2,000 ...\n",
      "DT: determiner\n",
      "    all an another any both del each either every half la many much nary\n",
      "    neither no some such that the them these this those\n",
      "EX: existential there\n",
      "    there\n",
      "FW: foreign word\n",
      "    gemeinschaft hund ich jeux habeas Haementeria Herr K'ang-si vous\n",
      "    lutihaw alai je jour objets salutaris fille quibusdam pas trop Monte\n",
      "    terram fiche oui corporis ...\n",
      "IN: preposition or conjunction, subordinating\n",
      "    astride among uppon whether out inside pro despite on by throughout\n",
      "    below within for towards near behind atop around if like until below\n",
      "    next into if beside ...\n",
      "JJ: adjective or numeral, ordinal\n",
      "    third ill-mannered pre-war regrettable oiled calamitous first separable\n",
      "    ectoplasmic battery-powered participatory fourth still-to-be-named\n",
      "    multilingual multi-disciplinary ...\n",
      "JJR: adjective, comparative\n",
      "    bleaker braver breezier briefer brighter brisker broader bumper busier\n",
      "    calmer cheaper choosier cleaner clearer closer colder commoner costlier\n",
      "    cozier creamier crunchier cuter ...\n",
      "JJS: adjective, superlative\n",
      "    calmest cheapest choicest classiest cleanest clearest closest commonest\n",
      "    corniest costliest crassest creepiest crudest cutest darkest deadliest\n",
      "    dearest deepest densest dinkiest ...\n",
      "LS: list item marker\n",
      "    A A. B B. C C. D E F First G H I J K One SP-44001 SP-44002 SP-44005\n",
      "    SP-44007 Second Third Three Two * a b c d first five four one six three\n",
      "    two\n",
      "MD: modal auxiliary\n",
      "    can cannot could couldn't dare may might must need ought shall should\n",
      "    shouldn't will would\n",
      "NN: noun, common, singular or mass\n",
      "    common-carrier cabbage knuckle-duster Casino afghan shed thermostat\n",
      "    investment slide humour falloff slick wind hyena override subhumanity\n",
      "    machinist ...\n",
      "NNP: noun, proper, singular\n",
      "    Motown Venneboerger Czestochwa Ranzer Conchita Trumplane Christos\n",
      "    Oceanside Escobar Kreisler Sawyer Cougar Yvette Ervin ODI Darryl CTCA\n",
      "    Shannon A.K.C. Meltex Liverpool ...\n",
      "NNPS: noun, proper, plural\n",
      "    Americans Americas Amharas Amityvilles Amusements Anarcho-Syndicalists\n",
      "    Andalusians Andes Andruses Angels Animals Anthony Antilles Antiques\n",
      "    Apache Apaches Apocrypha ...\n",
      "NNS: noun, common, plural\n",
      "    undergraduates scotches bric-a-brac products bodyguards facets coasts\n",
      "    divestitures storehouses designs clubs fragrances averages\n",
      "    subjectivists apprehensions muses factory-jobs ...\n",
      "PDT: pre-determiner\n",
      "    all both half many quite such sure this\n",
      "POS: genitive marker\n",
      "    ' 's\n",
      "PRP: pronoun, personal\n",
      "    hers herself him himself hisself it itself me myself one oneself ours\n",
      "    ourselves ownself self she thee theirs them themselves they thou thy us\n",
      "PRP$: pronoun, possessive\n",
      "    her his mine my our ours their thy your\n",
      "RB: adverb\n",
      "    occasionally unabatingly maddeningly adventurously professedly\n",
      "    stirringly prominently technologically magisterially predominately\n",
      "    swiftly fiscally pitilessly ...\n",
      "RBR: adverb, comparative\n",
      "    further gloomier grander graver greater grimmer harder harsher\n",
      "    healthier heavier higher however larger later leaner lengthier less-\n",
      "    perfectly lesser lonelier longer louder lower more ...\n",
      "RBS: adverb, superlative\n",
      "    best biggest bluntest earliest farthest first furthest hardest\n",
      "    heartiest highest largest least less most nearest second tightest worst\n",
      "RP: particle\n",
      "    aboard about across along apart around aside at away back before behind\n",
      "    by crop down ever fast for forth from go high i.e. in into just later\n",
      "    low more off on open out over per pie raising start teeth that through\n",
      "    under unto up up-pp upon whole with you\n",
      "SYM: symbol\n",
      "    % & ' '' ''. ) ). * + ,. < = > @ A[fj] U.S U.S.S.R * ** ***\n",
      "TO: \"to\" as preposition or infinitive marker\n",
      "    to\n",
      "UH: interjection\n",
      "    Goodbye Goody Gosh Wow Jeepers Jee-sus Hubba Hey Kee-reist Oops amen\n",
      "    huh howdy uh dammit whammo shucks heck anyways whodunnit honey golly\n",
      "    man baby diddle hush sonuvabitch ...\n",
      "VB: verb, base form\n",
      "    ask assemble assess assign assume atone attention avoid bake balkanize\n",
      "    bank begin behold believe bend benefit bevel beware bless boil bomb\n",
      "    boost brace break bring broil brush build ...\n",
      "VBD: verb, past tense\n",
      "    dipped pleaded swiped regummed soaked tidied convened halted registered\n",
      "    cushioned exacted snubbed strode aimed adopted belied figgered\n",
      "    speculated wore appreciated contemplated ...\n",
      "VBG: verb, present participle or gerund\n",
      "    telegraphing stirring focusing angering judging stalling lactating\n",
      "    hankerin' alleging veering capping approaching traveling besieging\n",
      "    encrypting interrupting erasing wincing ...\n",
      "VBN: verb, past participle\n",
      "    multihulled dilapidated aerosolized chaired languished panelized used\n",
      "    experimented flourished imitated reunifed factored condensed sheared\n",
      "    unsettled primed dubbed desired ...\n",
      "VBP: verb, present tense, not 3rd person singular\n",
      "    predominate wrap resort sue twist spill cure lengthen brush terminate\n",
      "    appear tend stray glisten obtain comprise detest tease attract\n",
      "    emphasize mold postpone sever return wag ...\n",
      "VBZ: verb, present tense, 3rd person singular\n",
      "    bases reconstructs marks mixes displeases seals carps weaves snatches\n",
      "    slumps stretches authorizes smolders pictures emerges stockpiles\n",
      "    seduces fizzes uses bolsters slaps speaks pleads ...\n",
      "WDT: WH-determiner\n",
      "    that what whatever which whichever\n",
      "WP: WH-pronoun\n",
      "    that what whatever whatsoever which who whom whosoever\n",
      "WP$: WH-pronoun, possessive\n",
      "    whose\n",
      "WRB: Wh-adverb\n",
      "    how however whence whenever where whereby whereever wherein whereof why\n",
      "``: opening quotation mark\n",
      "    ` ``\n"
     ]
    }
   ],
   "source": [
    "# all the possible tags\n",
    "nltk.help.upenn_tagset()"
   ]
  },
  {
   "cell_type": "code",
   "execution_count": 18,
   "metadata": {},
   "outputs": [
    {
     "name": "stdout",
     "output_type": "stream",
     "text": [
      "As a Temple student, I love this place! The food is fantastic! They have gourmet style pizzas that are New York style and fantastic. The bar isn't too expensive, and is always a fun time!\n"
     ]
    }
   ],
   "source": [
    "sample_text = \"As a Temple student, I love this place! The food is fantastic! They have gourmet style pizzas that are New York style and fantastic. The bar isn't too expensive, and is always a fun time!\"\n",
    "\n",
    "split = handle_negations(sample_text)\n",
    "print(split)"
   ]
  },
  {
   "cell_type": "code",
   "execution_count": 19,
   "metadata": {},
   "outputs": [],
   "source": [
    "# function to remove all punctuation except underscores and stop words\n",
    "\n",
    "import string \n",
    "import re\n",
    "\n",
    "def remove_punc_stop(text):\n",
    "    \n",
    "    remove = string.punctuation\n",
    "    remove = remove.replace(\"_\", \"\") # don't remove hyphens\n",
    "    pattern = r\"[{}]\".format(remove) # create the pattern\n",
    "    nopunc = re.sub(pattern, \"\", text)\n",
    "    \n",
    "    return [word for word in nopunc.split() if word.lower() not in stopwords.words('english')]\n",
    "    "
   ]
  },
  {
   "cell_type": "code",
   "execution_count": 20,
   "metadata": {},
   "outputs": [
    {
     "name": "stdout",
     "output_type": "stream",
     "text": [
      "['Temple', 'student', 'love', 'place', 'food', 'fantastic', 'gourmet', 'style', 'pizzas', 'New', 'York', 'style', 'fantastic', 'bar', 'isnt', 'expensive', 'always', 'fun', 'time']\n"
     ]
    }
   ],
   "source": [
    "sample_text = \"As a Temple student, I love this place! The food is fantastic! They have gourmet style pizzas that are New York style and fantastic. The bar isn't too expensive, and is always a fun time!\"\n",
    "\n",
    "sample_text = remove_punc_stop(sample_text)\n",
    "print(sample_text)"
   ]
  },
  {
   "cell_type": "code",
   "execution_count": 24,
   "metadata": {},
   "outputs": [],
   "source": [
    "import string \n",
    "import re\n",
    "\n",
    "def NOT_make_bigrams(text):\n",
    "    \n",
    "    remove = string.punctuation\n",
    "    remove = remove.replace(\"_\", \"\") # don't remove hyphens\n",
    "    pattern = r\"[{}]\".format(remove) # create the pattern\n",
    "    nopunc = re.sub(pattern, \"\", text)\n",
    "    \n",
    "    text = nopunc.split()\n",
    "    grams = []\n",
    "    \n",
    "    for i in range(0,len(text) - 1):\n",
    "        if i+1 < len(text):\n",
    "            temp = text[i] + ' ' + text[i+1]\n",
    "            grams.append(temp)\n",
    "    \n",
    "    return grams"
   ]
  },
  {
   "cell_type": "code",
   "execution_count": 21,
   "metadata": {},
   "outputs": [],
   "source": [
    "import string \n",
    "import re\n",
    "\n",
    "def make_bigrams(text):\n",
    "    \n",
    "    remove = string.punctuation\n",
    "    remove = remove.replace(\"_\", \"\") # don't remove hyphens\n",
    "    pattern = r\"[{}]\".format(remove) # create the pattern\n",
    "    nopunc = re.sub(pattern, \"\", text)\n",
    "    \n",
    "    text = nopunc.split()\n",
    "    \n",
    "    grams = []\n",
    "    for i in range(0,len(text)):\n",
    "    \n",
    "        word = text[i]\n",
    "    \n",
    "        # get the next word\n",
    "        if i+1 < (len(text)):\n",
    "            next_word = text[i+1]\n",
    "        else:\n",
    "            next_word = \"\"\n",
    "         \n",
    "        #print(word, next_word)\n",
    "        \n",
    "         # get the parts of speech \n",
    "        if i < (len(text)):\n",
    "            word_pos = get_POS(text, i)\n",
    "        else:\n",
    "            word_pos = \"BLANK\"\n",
    "            \n",
    "        if i+1 < (len(text)-1):\n",
    "            next_word_pos = get_POS(text, i+1)\n",
    "        else:\n",
    "            next_word_pos = \"BLANK\"\n",
    "                \n",
    "        if word_pos in adjective and next_word_pos in adj_noun_verb:\n",
    "            temp = word + ' ' + next_word\n",
    "            grams.append(temp)\n",
    "    \n",
    "    return grams"
   ]
  },
  {
   "cell_type": "code",
   "execution_count": 22,
   "metadata": {},
   "outputs": [
    {
     "name": "stdout",
     "output_type": "stream",
     "text": [
      "['delicious pizza', 'great hot']\n"
     ]
    }
   ],
   "source": [
    "#sample_text = \"As a Temple student, I love this place! The food is fantastic! They have gourmet style pizzas that are New York style and fantastic. The bar isn't too expensive, and is always a fun time!\"\n",
    "sample_text = \"Maxis has delicious pizza and great hot wings.\"\n",
    "\n",
    "\n",
    "grams = make_bigrams(sample_text)\n",
    "print(grams)"
   ]
  },
  {
   "cell_type": "code",
   "execution_count": 27,
   "metadata": {},
   "outputs": [],
   "source": [
    "import string \n",
    "import re\n",
    "\n",
    "def NOT_make_trigrams(text):\n",
    "    \n",
    "    remove = string.punctuation\n",
    "    remove = remove.replace(\"_\", \"\") # don't remove hyphens\n",
    "    pattern = r\"[{}]\".format(remove) # create the pattern\n",
    "    nopunc = re.sub(pattern, \"\", text)\n",
    "    \n",
    "    text = nopunc.split()\n",
    "    grams = []\n",
    "    \n",
    "    for i in range(0,len(text) - 1):\n",
    "        if i+2 < len(text):\n",
    "            temp = text[i] + ' ' + text[i+1] + ' ' + text[i+2]\n",
    "            grams.append(temp)\n",
    "    \n",
    "    return grams"
   ]
  },
  {
   "cell_type": "code",
   "execution_count": 23,
   "metadata": {},
   "outputs": [],
   "source": [
    "import string \n",
    "import re\n",
    "\n",
    "def make_trigrams(text):\n",
    "    \n",
    "    remove = string.punctuation\n",
    "    remove = remove.replace(\"_\", \"\") # don't remove hyphens\n",
    "    pattern = r\"[{}]\".format(remove) # create the pattern\n",
    "    nopunc = re.sub(pattern, \"\", text)\n",
    "    \n",
    "    text = nopunc.split()\n",
    "    grams = []\n",
    "    for i in range(0,len(text)):\n",
    "    \n",
    "        word = text[i]\n",
    "    \n",
    "        # get the next word\n",
    "        if i+1 < (len(text)):\n",
    "            next_word = text[i+1]\n",
    "        else:\n",
    "            next_word = \"\"\n",
    "            \n",
    "        # get the next word\n",
    "        if i+2 < (len(text)):\n",
    "            next_next_word = text[i+2]\n",
    "        else:\n",
    "            next_next_word = \"\"\n",
    "            \n",
    "        #print(word, next_word, next_next_word)\n",
    "    \n",
    "        # get the parts of speech \n",
    "        if i < (len(text)):\n",
    "            word_pos = get_POS(text, i)\n",
    "        else:\n",
    "            word_pos = \"BLANK\"\n",
    "            \n",
    "        if i+1 < (len(text)):\n",
    "            next_word_pos = get_POS(text, i+1)\n",
    "        else:\n",
    "            next_word_pos = \"BLANK\"\n",
    "            \n",
    "        if i+2 < (len(text)):\n",
    "            next_next_word_pos = get_POS(text, i+2)\n",
    "        else:\n",
    "            next_next_word_pos = \"BLANK\"\n",
    "                  \n",
    "        if word_pos in adjective and next_word_pos in adjective:\n",
    "            temp = word + ' ' + next_word + ' ' + next_next_word\n",
    "            grams.append(temp)\n",
    "    \n",
    "    return grams"
   ]
  },
  {
   "cell_type": "code",
   "execution_count": 24,
   "metadata": {},
   "outputs": [
    {
     "name": "stdout",
     "output_type": "stream",
     "text": [
      "['delicious hot wings']\n"
     ]
    }
   ],
   "source": [
    "#sample_text = \"As a Temple student, I love this place! The food is fantastic! They have gourmet style pizzas that are New York style and fantastic. The bar isn't too expensive, and is always a fun time!\"\n",
    "sample_text = \"Maxis has delicious pizza and delicious hot wings.\"\n",
    "\n",
    "grams = make_trigrams(sample_text)\n",
    "print(grams)"
   ]
  },
  {
   "cell_type": "code",
   "execution_count": 25,
   "metadata": {},
   "outputs": [],
   "source": [
    "import string \n",
    "import re\n",
    "\n",
    "def make_fourgrams(text):\n",
    "    \n",
    "    remove = string.punctuation\n",
    "    remove = remove.replace(\"_\", \"\") # don't remove hyphens\n",
    "    pattern = r\"[{}]\".format(remove) # create the pattern\n",
    "    nopunc = re.sub(pattern, \"\", text)\n",
    "    \n",
    "    text = nopunc.split()\n",
    "    \n",
    "    grams = []\n",
    "    for i in range(0,len(text)):\n",
    "    \n",
    "        word = text[i]\n",
    "    \n",
    "        # get the next word\n",
    "        if i+1 < (len(text)-1):\n",
    "            next_word = text[i+1]\n",
    "        else:\n",
    "            next_word = \"\"\n",
    "        \n",
    "        # get the next next word\n",
    "        if i+2 < (len(text)-1):\n",
    "            next_next_word = text[i+2]\n",
    "        else:\n",
    "            next_next_word = \"\"\n",
    "            \n",
    "        \n",
    "        # get the next next next word\n",
    "        if i+3 < (len(text)-1):\n",
    "            next_next_next_word = text[i+3]\n",
    "        else:\n",
    "            next_next_word = \"\"\n",
    "        \n",
    "        #print(word, next_word, next_next_word, next_next_next_word)\n",
    "        \n",
    "        # get the parts of speech \n",
    "        if i < (len(text)-1):\n",
    "            word_pos = get_POS(text, i)\n",
    "        else:\n",
    "            word_pos = \"BLANK\"\n",
    "            \n",
    "        if i+1 < (len(text)-1):\n",
    "            next_word_pos = get_POS(text, i+1)\n",
    "        else:\n",
    "            next_word_pos = \"BLANK\"\n",
    "            \n",
    "        if i+2 < (len(text)-1):\n",
    "            next_next_word_pos = get_POS(text, i+2)\n",
    "        else:\n",
    "            next_next_word_pos = \"BLANK\"\n",
    "            \n",
    "        if i+3 < (len(text)-1):\n",
    "            next_next_next_word_pos = get_POS(text, i+3)\n",
    "        else:\n",
    "            next_next_next_word_pos = \"BLANK\"\n",
    "            \n",
    "        #DT + RB + RB + JJ\n",
    "        if word_pos == \"DT\" and next_word_pos == \"RB\" and next_next_word_pos == \"RB\" and next_next_next_word_pos == \"JJ\":\n",
    "            temp = word + ' ' + next_word + ' ' + next_next_word + ' ' + next_next_next_word\n",
    "            #print(temp)\n",
    "            grams.append(temp)\n",
    "        \n",
    "        \n",
    "        #CD + IN + DT + JJS\n",
    "        if word_pos == \"CD\" and next_word_pos == \"IN\" and next_next_word_pos == \"DT\" and next_next_next_word_pos == \"JJS\":\n",
    "            temp = word + ' ' + next_word + ' ' + next_next_word + ' ' + next_next_next_word\n",
    "            #print(temp)\n",
    "            grams.append(temp)\n",
    "            \n",
    "\n",
    "    return grams\n",
    "            \n",
    "        \n",
    "                "
   ]
  },
  {
   "cell_type": "code",
   "execution_count": 26,
   "metadata": {},
   "outputs": [
    {
     "name": "stdout",
     "output_type": "stream",
     "text": [
      "['a very very good', 'one of the best']\n"
     ]
    }
   ],
   "source": [
    "sample_text = \"As a Temple student, I love this place! The food is fantastic! They have a very very good phone and one of the best phones!\"\n",
    "\n",
    "grams = make_fourgrams(sample_text)\n",
    "print(grams)"
   ]
  },
  {
   "cell_type": "code",
   "execution_count": 48,
   "metadata": {},
   "outputs": [],
   "source": [
    "# function to combine all preprocessing\n",
    "# iteration 3\n",
    "def text_process(text):\n",
    "    \n",
    "    text = expand_contractions(text)\n",
    "    text = handle_negations(text)\n",
    "    \n",
    "    text_copy = text #store a copy of the text with punctuation and stop words\n",
    "    \n",
    "    text = remove_punc_stop(text)\n",
    "    \n",
    "    bigrams = make_bigrams(text_copy)\n",
    "    #trigrams = make_trigrams(unmodified_text)\n",
    "    #fourgrams = make_fourgrams(unmodified_text)\n",
    "    \n",
    "    text.extend(bigrams) # add bigrams to the list of words\n",
    "    #text.extend(trigrams)\n",
    "    #text.extend(fourgrams)\n",
    "    \n",
    "    return text"
   ]
  },
  {
   "cell_type": "code",
   "execution_count": 49,
   "metadata": {
    "scrolled": true
   },
   "outputs": [
    {
     "name": "stdout",
     "output_type": "stream",
     "text": [
      "['Temple', 'student', 'love', 'place', 'food', 'fantastic', 'gourmet', 'style', 'pizzas', 'New', 'York', 'style', 'fantastic', 'bar', 'not_expensive', 'always', 'fun', 'time']\n"
     ]
    }
   ],
   "source": [
    "sample_text = \"As a Temple student, I love this place! The food is fantastic! They have gourmet style pizzas that are New York style and fantastic. The bar isn't too expensive, and is always a fun time!\"\n",
    "\n",
    "preprocessed = text_process(sample_text)\n",
    "print(preprocessed)\n"
   ]
  },
  {
   "cell_type": "code",
   "execution_count": 50,
   "metadata": {},
   "outputs": [],
   "source": [
    "# get just the text from the collection of reviews\n",
    "review_text = reviews_sample['text']\n",
    "review_stars = reviews_sample['stars']"
   ]
  },
  {
   "cell_type": "code",
   "execution_count": 51,
   "metadata": {},
   "outputs": [],
   "source": [
    "from sklearn.feature_extraction.text import CountVectorizer"
   ]
  },
  {
   "cell_type": "code",
   "execution_count": 52,
   "metadata": {},
   "outputs": [],
   "source": [
    "# process text using text_process\n",
    "# bow_transformer = CountVectorizer(analyzer=text_process).fit(X)\n",
    "bow_transformer = CountVectorizer(analyzer=text_process).fit(review_text)"
   ]
  },
  {
   "cell_type": "code",
   "execution_count": 53,
   "metadata": {},
   "outputs": [
    {
     "data": {
      "text/plain": [
       "79447"
      ]
     },
     "execution_count": 53,
     "metadata": {},
     "output_type": "execute_result"
    }
   ],
   "source": [
    "# size of the vocabulary stored in the vectorizer\n",
    "len(bow_transformer.vocabulary_)"
   ]
  },
  {
   "cell_type": "code",
   "execution_count": 54,
   "metadata": {},
   "outputs": [
    {
     "name": "stdout",
     "output_type": "stream",
     "text": [
      "Thanks guys.. did a great job. My wife is very happy. Yes .. I would tell a friend to come see you.. to thumbs up\n",
      "\n",
      "\n",
      "  (0, 14695)\t1\n",
      "  (0, 16201)\t1\n",
      "  (0, 25552)\t1\n",
      "  (0, 36629)\t1\n",
      "  (0, 39253)\t1\n",
      "  (0, 39671)\t1\n",
      "  (0, 40366)\t1\n",
      "  (0, 40662)\t1\n",
      "  (0, 40675)\t1\n",
      "  (0, 44215)\t1\n",
      "  (0, 66759)\t1\n",
      "  (0, 73063)\t1\n",
      "  (0, 73648)\t1\n",
      "  (0, 78208)\t1\n",
      "  (0, 78834)\t1\n",
      "\n",
      "\n",
      "Saltado\n",
      "Ta\n",
      "available right\n"
     ]
    }
   ],
   "source": [
    "# Review 20\n",
    "\n",
    "# Text\n",
    "review_20 = review_text[20]\n",
    "print(review_20)\n",
    "\n",
    "# Feature Vector\n",
    "print(\"\\n\")\n",
    "bow_20 = bow_transformer.transform([review_20])\n",
    "print(bow_20)\n",
    "\n",
    "# First 3 Words\n",
    "print(\"\\n\")\n",
    "print(bow_transformer.get_feature_names()[13102])\n",
    "print(bow_transformer.get_feature_names()[14457])\n",
    "print(bow_transformer.get_feature_names()[18862])"
   ]
  },
  {
   "cell_type": "code",
   "execution_count": 55,
   "metadata": {},
   "outputs": [
    {
     "name": "stdout",
     "output_type": "stream",
     "text": [
      "Took a free trial class this weekend and signed up for an unlimited membership. I really appreciate the friendly and kind staff, and Stephanie has been my favorite trainer so far. Hours are perfect for my work schedule and I love the weekend hours as well.\n",
      "\n",
      "I would like to update with a few more things that I love about Orange Theory: (1) Class size is limited. Ensures that everyone has enough space. (2) The apps that keep track of your classes and monitor your progress are fab! I love apps. (3) Trainer directed class. It's like having a personal trainer. You just listen and go! (4) Every class is different. (5) Nearly impossible to slack off and not have a great workout.\n",
      "\n",
      "\n",
      "  (0, 31)\t1\n",
      "  (0, 460)\t1\n",
      "  (0, 678)\t1\n",
      "  (0, 812)\t1\n",
      "  (0, 938)\t1\n",
      "  (0, 4173)\t1\n",
      "  (0, 5589)\t1\n",
      "  (0, 5685)\t1\n",
      "  (0, 7676)\t1\n",
      "  (0, 10572)\t1\n",
      "  (0, 11034)\t1\n",
      "  (0, 14051)\t1\n",
      "  (0, 14707)\t1\n",
      "  (0, 14866)\t1\n",
      "  (0, 14956)\t1\n",
      "  (0, 18069)\t1\n",
      "  (0, 18115)\t2\n",
      "  (0, 24814)\t3\n",
      "  (0, 24816)\t1\n",
      "  (0, 29285)\t1\n",
      "  (0, 29746)\t1\n",
      "  (0, 31756)\t1\n",
      "  (0, 31807)\t1\n",
      "  (0, 32337)\t1\n",
      "  (0, 33263)\t1\n",
      "  :\t:\n",
      "  (0, 50212)\t1\n",
      "  (0, 53833)\t1\n",
      "  (0, 59639)\t1\n",
      "  (0, 59874)\t1\n",
      "  (0, 59931)\t1\n",
      "  (0, 62070)\t1\n",
      "  (0, 63320)\t1\n",
      "  (0, 66314)\t1\n",
      "  (0, 67910)\t1\n",
      "  (0, 68258)\t1\n",
      "  (0, 68390)\t1\n",
      "  (0, 69831)\t1\n",
      "  (0, 70501)\t1\n",
      "  (0, 73487)\t1\n",
      "  (0, 74400)\t1\n",
      "  (0, 74522)\t2\n",
      "  (0, 74679)\t1\n",
      "  (0, 75828)\t1\n",
      "  (0, 75842)\t1\n",
      "  (0, 76087)\t1\n",
      "  (0, 77609)\t2\n",
      "  (0, 77736)\t1\n",
      "  (0, 78616)\t1\n",
      "  (0, 78632)\t1\n",
      "  (0, 78834)\t1\n",
      "\n",
      "\n",
      "attendance\n",
      "crooked auto\n"
     ]
    }
   ],
   "source": [
    "review_50 = review_text[50]\n",
    "print(review_50)\n",
    "\n",
    "print(\"\\n\")\n",
    "bow_50 = bow_transformer.transform([review_50])\n",
    "print(bow_50)\n",
    "\n",
    "# words that appears 3 times\n",
    "print(\"\\n\")\n",
    "print(bow_transformer.get_feature_names()[18559])\n",
    "print(bow_transformer.get_feature_names()[27386])"
   ]
  },
  {
   "cell_type": "code",
   "execution_count": 56,
   "metadata": {},
   "outputs": [],
   "source": [
    "#X = bow_transformer.transform(X)\n",
    "\n",
    "transformed_review_text = bow_transformer.transform(review_text)\n"
   ]
  },
  {
   "cell_type": "code",
   "execution_count": 57,
   "metadata": {},
   "outputs": [
    {
     "name": "stdout",
     "output_type": "stream",
     "text": [
      "Shape of Sparse Matrix:  (10000, 79447)\n",
      "Amount of Non-Zero occurrences:  547542\n",
      "Density:  0.06891915364960288\n"
     ]
    }
   ],
   "source": [
    "print('Shape of Sparse Matrix: ', transformed_review_text.shape)\n",
    "print('Amount of Non-Zero occurrences: ', transformed_review_text.nnz)\n",
    "# Percentage of non-zero values\n",
    "density = (100.0 * transformed_review_text.nnz / (transformed_review_text.shape[0] * transformed_review_text.shape[1]))\n",
    "print('Density: ', density)"
   ]
  },
  {
   "cell_type": "markdown",
   "metadata": {},
   "source": [
    "### Train Model\n",
    "#### Method 3: Expand contractions, handle negations, remove stop words and punctuation, bigrams, trigrams, fourgrams,"
   ]
  },
  {
   "cell_type": "code",
   "execution_count": 58,
   "metadata": {},
   "outputs": [],
   "source": [
    "from sklearn.model_selection import train_test_split\n",
    "\n",
    "#X_train, X_test, y_train, y_test = train_test_split(X, y, test_size=0.3, random_state=101)\n",
    "X_train, X_test, y_train, y_test = train_test_split(transformed_review_text, review_stars, test_size=0.3, random_state=101)"
   ]
  },
  {
   "cell_type": "code",
   "execution_count": 59,
   "metadata": {},
   "outputs": [
    {
     "data": {
      "text/plain": [
       "MultinomialNB(alpha=1.0, class_prior=None, fit_prior=True)"
      ]
     },
     "execution_count": 59,
     "metadata": {},
     "output_type": "execute_result"
    }
   ],
   "source": [
    "from sklearn.naive_bayes import MultinomialNB\n",
    "\n",
    "# train model\n",
    "nb = MultinomialNB()\n",
    "nb.fit(X_train, y_train)"
   ]
  },
  {
   "cell_type": "code",
   "execution_count": 60,
   "metadata": {},
   "outputs": [],
   "source": [
    "# store predictions as a separate dataframe\n",
    "preds = nb.predict(X_test)"
   ]
  },
  {
   "cell_type": "code",
   "execution_count": 61,
   "metadata": {},
   "outputs": [
    {
     "name": "stdout",
     "output_type": "stream",
     "text": [
      "Confusion Matrix\n",
      "\n",
      "[[ 309    4    4   36   88]\n",
      " [  68    3    4   71   73]\n",
      " [  32    3    4  145  138]\n",
      " [  20    4    4  286  416]\n",
      " [  34    2    0  109 1143]]\n",
      "\n",
      "\n",
      "              precision    recall  f1-score   support\n",
      "\n",
      "         1.0       0.67      0.70      0.68       441\n",
      "         2.0       0.19      0.01      0.03       219\n",
      "         3.0       0.25      0.01      0.02       322\n",
      "         4.0       0.44      0.39      0.42       730\n",
      "         5.0       0.62      0.89      0.73      1288\n",
      "\n",
      "   micro avg       0.58      0.58      0.58      3000\n",
      "   macro avg       0.43      0.40      0.37      3000\n",
      "weighted avg       0.51      0.58      0.52      3000\n",
      "\n"
     ]
    }
   ],
   "source": [
    "from sklearn.metrics import confusion_matrix, classification_report\n",
    "\n",
    "# confusion matrix\n",
    "print(\"Confusion Matrix\\n\")\n",
    "print(confusion_matrix(y_test, preds))\n",
    "print('\\n')\n",
    "print(classification_report(y_test, preds))"
   ]
  },
  {
   "cell_type": "code",
   "execution_count": 63,
   "metadata": {},
   "outputs": [
    {
     "name": "stdout",
     "output_type": "stream",
     "text": [
      "Collecting mlxtend\n",
      "\u001b[?25l  Downloading https://files.pythonhosted.org/packages/16/e6/30e50ed9c053a1530c83149090e1f5fd9fccc8503dca2ecce1bb52f34de0/mlxtend-0.15.0.0-py2.py3-none-any.whl (1.3MB)\n",
      "\u001b[K    100% |████████████████████████████████| 1.3MB 1.1MB/s ta 0:00:01\n",
      "\u001b[?25hRequirement already satisfied: scikit-learn>=0.18 in /Users/svmanning/anaconda2/envs/py3k/lib/python3.7/site-packages (from mlxtend) (0.20.1)\n",
      "Requirement already satisfied: pandas>=0.17.1 in /Users/svmanning/anaconda2/envs/py3k/lib/python3.7/site-packages (from mlxtend) (0.23.4)\n",
      "Requirement already satisfied: setuptools in /Users/svmanning/anaconda2/envs/py3k/lib/python3.7/site-packages (from mlxtend) (40.6.3)\n",
      "Requirement already satisfied: matplotlib>=1.5.1 in /Users/svmanning/anaconda2/envs/py3k/lib/python3.7/site-packages (from mlxtend) (3.0.2)\n",
      "Requirement already satisfied: scipy>=0.17 in /Users/svmanning/anaconda2/envs/py3k/lib/python3.7/site-packages (from mlxtend) (1.1.0)\n",
      "Requirement already satisfied: numpy>=1.10.4 in /Users/svmanning/anaconda2/envs/py3k/lib/python3.7/site-packages (from mlxtend) (1.15.4)\n",
      "Requirement already satisfied: python-dateutil>=2.5.0 in /Users/svmanning/anaconda2/envs/py3k/lib/python3.7/site-packages (from pandas>=0.17.1->mlxtend) (2.7.5)\n",
      "Requirement already satisfied: pytz>=2011k in /Users/svmanning/anaconda2/envs/py3k/lib/python3.7/site-packages (from pandas>=0.17.1->mlxtend) (2018.7)\n",
      "Requirement already satisfied: cycler>=0.10 in /Users/svmanning/anaconda2/envs/py3k/lib/python3.7/site-packages (from matplotlib>=1.5.1->mlxtend) (0.10.0)\n",
      "Requirement already satisfied: kiwisolver>=1.0.1 in /Users/svmanning/anaconda2/envs/py3k/lib/python3.7/site-packages (from matplotlib>=1.5.1->mlxtend) (1.0.1)\n",
      "Requirement already satisfied: pyparsing!=2.0.4,!=2.1.2,!=2.1.6,>=2.0.1 in /Users/svmanning/anaconda2/envs/py3k/lib/python3.7/site-packages (from matplotlib>=1.5.1->mlxtend) (2.3.0)\n",
      "Requirement already satisfied: six>=1.5 in /Users/svmanning/anaconda2/envs/py3k/lib/python3.7/site-packages (from python-dateutil>=2.5.0->pandas>=0.17.1->mlxtend) (1.12.0)\n",
      "Installing collected packages: mlxtend\n",
      "Successfully installed mlxtend-0.15.0.0\n"
     ]
    }
   ],
   "source": [
    "!source activate py3k;pip install mlxtend"
   ]
  },
  {
   "cell_type": "code",
   "execution_count": 64,
   "metadata": {},
   "outputs": [],
   "source": [
    "from mlxtend.plotting import plot_confusion_matrix\n",
    "import matplotlib.pyplot as plt\n",
    "import numpy as np"
   ]
  },
  {
   "cell_type": "code",
   "execution_count": 65,
   "metadata": {},
   "outputs": [
    {
     "data": {
      "image/png": "[encoded data removed]",
      "text/plain": [
       "<Figure size 360x360 with 1 Axes>"
      ]
     },
     "metadata": {
      "needs_background": "light"
     },
     "output_type": "display_data"
    }
   ],
   "source": [
    "binary = np.array([[309,4,4,36,88],\n",
    " [68,3,4,71,73],\n",
    " [32,3,4,145,138],\n",
    " [20,4,4,286,416],\n",
    " [34,2,0,109,1143]])\n",
    "\n",
    "labels = ['1-star', '2-star', '3-star', '4-star', '5-star']\n",
    "fig, ax = plot_confusion_matrix(conf_mat=binary, figsize=(5,5))\n",
    "ax.set_xticklabels([''] + labels)\n",
    "ax.set_yticklabels([''] + labels)\n",
    "plt.title('Figure 3. Confusion Matrix: Iteration 3')\n",
    "plt.show()"
   ]
  },
  {
   "cell_type": "code",
   "execution_count": null,
   "metadata": {},
   "outputs": [],
   "source": []
  }
 ],
 "metadata": {
  "kernelspec": {
   "display_name": "Python 3",
   "language": "python",
   "name": "python3"
  },
  "language_info": {
   "codemirror_mode": {
    "name": "ipython",
    "version": 3
   },
   "file_extension": ".py",
   "mimetype": "text/x-python",
   "name": "python",
   "nbconvert_exporter": "python",
   "pygments_lexer": "ipython3",
   "version": "3.7.1"
  }
 },
 "nbformat": 4,
 "nbformat_minor": 2
}
